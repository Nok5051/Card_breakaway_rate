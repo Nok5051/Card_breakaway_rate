{
 "cells": [
  {
   "cell_type": "code",
   "execution_count": null,
   "id": "bfa7d724",
   "metadata": {},
   "outputs": [],
   "source": [
    "VIF_label = ['Customer_Age','Months_on_book', 'Credit_Limit', \n",
    "                'Total_Revolving_Bal', 'Avg_Open_To_Buy', 'Total_Amt_Chng_Q4_Q1', 'Total_Trans_Amt',\n",
    "               'Total_Trans_Ct', 'Total_Ct_Chng_Q4_Q1', 'Avg_Utilization_Ratio'] \n",
    "VIF_dataset = data_test[VIF_label]"
   ]
  },
  {
   "cell_type": "code",
   "execution_count": null,
   "id": "373603f9",
   "metadata": {},
   "outputs": [],
   "source": [
    "def feature_engineering_XbyVIF(VIF_dataset):\n",
    "    vif = pd.DataFrame()\n",
    "    vif['VIF_Factor'] = [variance_inflation_factor(VIF_dataset.values, i)\n",
    "                        for i in range(VIF_dataset.shape[1])]\n",
    "    vif['Feature'] = VIF_dataset.columns\n",
    "    return vif\n",
    "\n",
    "vif = feature_engineering_XbyVIF(VIF_dataset)\n",
    "print(vif)"
   ]
  }
 ],
 "metadata": {
  "kernelspec": {
   "display_name": "Python 3 (ipykernel)",
   "language": "python",
   "name": "python3"
  },
  "language_info": {
   "codemirror_mode": {
    "name": "ipython",
    "version": 3
   },
   "file_extension": ".py",
   "mimetype": "text/x-python",
   "name": "python",
   "nbconvert_exporter": "python",
   "pygments_lexer": "ipython3",
   "version": "3.9.7"
  }
 },
 "nbformat": 4,
 "nbformat_minor": 5
}
