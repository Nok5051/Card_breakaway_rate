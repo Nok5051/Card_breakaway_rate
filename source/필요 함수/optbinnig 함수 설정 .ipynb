{
 "cells": [
  {
   "cell_type": "code",
   "execution_count": 1,
   "id": "60ad2fca",
   "metadata": {},
   "outputs": [],
   "source": [
    "from optbinning import ContinuousOptimalBinning\n",
    "\n",
    "def opt_col(test_col, target_col):\n",
    "    \n",
    "    optb = ContinuousOptimalBinning(name=variable, dtype=\"numerical\")\n",
    "    \n",
    "    optb.fit(test_col, target_col)\n",
    "    \n",
    "    binning_table = optb.binning_table\n",
    "    \n",
    "    binning_table.build()\n",
    "    \n",
    "    test_bin = optb.transform(test_col, metric=\"bins\")\n",
    "    opt_complete = pd.Series(test_bin)\n",
    "    \n",
    "    return opt_complete"
   ]
  },
  {
   "cell_type": "code",
   "execution_count": null,
   "id": "d3c51eae",
   "metadata": {},
   "outputs": [],
   "source": []
  }
 ],
 "metadata": {
  "kernelspec": {
   "display_name": "Python 3 (ipykernel)",
   "language": "python",
   "name": "python3"
  },
  "language_info": {
   "codemirror_mode": {
    "name": "ipython",
    "version": 3
   },
   "file_extension": ".py",
   "mimetype": "text/x-python",
   "name": "python",
   "nbconvert_exporter": "python",
   "pygments_lexer": "ipython3",
   "version": "3.9.7"
  }
 },
 "nbformat": 4,
 "nbformat_minor": 5
}
